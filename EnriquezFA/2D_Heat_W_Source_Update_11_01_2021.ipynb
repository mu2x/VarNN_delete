{
 "cells": [
  {
   "cell_type": "code",
   "execution_count": 96,
   "metadata": {},
   "outputs": [],
   "source": [
    "import matplotlib.pyplot as plt\n",
    "import numpy as np\n",
    "import json\n",
    "import csv"
   ]
  },
  {
   "cell_type": "code",
   "execution_count": 106,
   "metadata": {},
   "outputs": [
    {
     "name": "stdout",
     "output_type": "stream",
     "text": [
      "[[ 20. -10.   0. -10.   0.   0.   0.   0.   0.   0.   0.   0.]\n",
      " [-10.  30. -10.   0. -10.   0.   0.   0.   0.   0.   0.   0.]\n",
      " [  0. -10.  20.   0.   0. -10.   0.   0.   0.   0.   0.   0.]\n",
      " [-10.   0.   0.  30. -10.   0. -10.   0.   0.   0.   0.   0.]\n",
      " [  0. -10.   0. -10.  40. -10.   0. -10.   0.   0.   0.   0.]\n",
      " [  0.   0. -10.   0. -10.  30.   0.   0. -10.   0.   0.   0.]\n",
      " [  0.   0.   0. -10.   0.   0.  30. -10.   0. -10.   0.   0.]\n",
      " [  0.   0.   0.   0. -10.   0. -10.  40. -10.   0. -10.   0.]\n",
      " [  0.   0.   0.   0.   0. -10.   0. -10.  30.   0.   0. -10.]\n",
      " [  0.   0.   0.   0.   0.   0. -10.   0.   0.  40. -10.   0.]\n",
      " [  0.   0.   0.   0.   0.   0.   0. -10.   0. -10.  50. -10.]\n",
      " [  0.   0.   0.   0.   0.   0.   0.   0. -10.   0. -10.  40.]]\n",
      "[[260.03673947 227.79886148 212.16439905]\n",
      " [242.27461747 211.19544592 196.52993661]\n",
      " [205.591667   178.17836812 166.22996488]\n",
      " [146.32201542 129.69639469 123.98158989]]\n",
      "[[0.05 0.15 0.25]\n",
      " [0.05 0.15 0.25]\n",
      " [0.05 0.15 0.25]\n",
      " [0.05 0.15 0.25]]\n",
      "[[0.05 0.05 0.05]\n",
      " [0.15 0.15 0.15]\n",
      " [0.25 0.25 0.25]\n",
      " [0.35 0.35 0.35]]\n"
     ]
    },
    {
     "data": {
      "image/png": "[encoded data removed]",
      "text/plain": [
       "<Figure size 432x288 with 2 Axes>"
      ]
     },
     "metadata": {
      "needs_background": "light"
     },
     "output_type": "display_data"
    },
    {
     "name": "stdout",
     "output_type": "stream",
     "text": [
      "[260.03673947 227.79886148 212.16439905 242.27461747 211.19544592\n",
      " 196.52993661 205.591667   178.17836812 166.22996488 146.32201542\n",
      " 129.69639469 123.98158989]\n"
     ]
    }
   ],
   "source": [
    "Lx=0.3; Ly=0.4; n = 3; m =4; nn=n*m; # Geom descretization/mesh\n",
    "Ta=None; Tb=None; Tc=None; Td=100; # BCs\n",
    "k=1000;  # Properties\n",
    " \n",
    "dx = Lx/n;  dy = Ly/m;   \n",
    "store = np.zeros([])\n",
    "\n",
    "x = np.linspace(dx/2,Lx-dx/2,n); y = np.linspace(dy/2,Ly-dy/2,m); [X, Y]=np.meshgrid(x,y); \n",
    "\n",
    "A=np.zeros([nn,nn]); b=np.zeros([nn]); d2=np.zeros([m,n])\n",
    "\n",
    "dz=0.01;  G=k; qa=500000; qb=0; qc=0; qd=0; \n",
    "\n",
    "for j in range(m): \n",
    "     for i in range(n): \n",
    "        P = j*n+i; W = P-1; E = P+1; N=P+n; S=P-n;\n",
    "        \n",
    "        Aw = dy*dz; Ae=Aw; An=dx*dz; As = An; Su=0; Sp=0; Sua=qa*Aw; Sub=qb*Ae; Suc=qc*As; Sud=qd*An; \n",
    "        aW = G*Aw/dx; aE = G*Ae/dx; aN = G*An/dy; aS = G*As/dy;\n",
    "    \n",
    "        if(i>0): \n",
    "            A[P,W]=-aW; \n",
    "        else: \n",
    "            if Ta:\n",
    "                aW=0; Sp=Sp-2*G*Aw/dx; Su=Su + 2*G*Aw/dx*Ta;  \n",
    "            else:\n",
    "                aW=0; Sp=Sp; Su=Sua + Su;\n",
    "     \n",
    "        if(i<n-1): \n",
    "            A[P,E]=-aE; \n",
    "        else:\n",
    "            if Tb:\n",
    "                aE=0; Sp=Sp-2*G*Ae/dx; Su=Su + 2*G*Ae/dx*Tb;\n",
    "            else:\n",
    "                aE=0; Sp=Sp; Su=Sub + Su;\n",
    "        if(j>0): \n",
    "            A[P,S]=-aS; \n",
    "        else:\n",
    "            if Tc:\n",
    "                aS=0; Sp=Sp-2*G*As/dy; Su=Su + 2*G*As/dy*Tc;\n",
    "            else:\n",
    "                aS=0; Sp=Sp; Su=Suc + Su;           \n",
    "        if(j<m-1): \n",
    "            A[P,N]=-aN; \n",
    "        else:\n",
    "            if Td:\n",
    "                aN=0; Sp=Sp-2*G*An/dy; Su=Su + 2*G*An/dy*Td;\n",
    "            else:\n",
    "                aN=0; Sp=Sp; Su=Sud + Su;           \n",
    "        aP = aW + aE + aS + aN - Sp; \n",
    "        A[P,P] = aP; \n",
    "        #print(A[P,P])\n",
    "\n",
    "        #print(P,W,E,N,S)\n",
    "        \n",
    "        b[P]=Su; \n",
    "        #print(aP)\n",
    "\n",
    "        #store = np.column_stack((aW,aE,aN,aS,aP,Su))\n",
    "        #store1 = np.row_stack((aN,aS,aW,aE,aP,Su))\n",
    "        #store = np.append(store,store1)\n",
    "        #print(store)\n",
    "       # print(aW,aE,aN,aS,aP,Su)\n",
    "  \n",
    "print(A)\n",
    "d=np.linalg.solve(A,b);\n",
    "  \n",
    "\n",
    "for j in range(m):\n",
    "    for i in range(n):\n",
    "        IN=j*n+i; d2[j,i]=d[IN];\n",
    "print(d2) \n",
    "print(X)\n",
    "print(Y)     \n",
    "fig = plt.figure()\n",
    "plt.contourf(X, Y, d2)\n",
    "plt.colorbar()\n",
    "plt.show()\n",
    "\n",
    "#print(\"Max Temp =\",max(d))\n",
    "#print(d2)\n",
    "#print(aP)\n",
    "print(d)\n",
    "#results = np.array()\n",
    "\n",
    "filename = \"output_A.csv\"\n",
    "    \n",
    "# writing to csv file \n",
    "with open(filename, 'w') as csvfile: \n",
    "    # creating a csv writer object \n",
    "    csvwriter = csv.writer(csvfile) \n",
    "    csvwriter.writerows(A)"
   ]
  },
  {
   "cell_type": "code",
   "execution_count": 33,
   "metadata": {},
   "outputs": [
    {
     "name": "stdout",
     "output_type": "stream",
     "text": [
      "20.0\n",
      "30.0\n",
      "30.0\n",
      "40.0\n",
      "30.0\n",
      "40.0\n",
      "40.0\n",
      "50.0\n",
      "20.0\n",
      "30.0\n",
      "30.0\n",
      "40.0\n"
     ]
    },
    {
     "data": {
      "image/png": "[encoded data removed]",
      "text/plain": [
       "<Figure size 432x288 with 2 Axes>"
      ]
     },
     "metadata": {
      "needs_background": "light"
     },
     "output_type": "display_data"
    },
    {
     "name": "stdout",
     "output_type": "stream",
     "text": [
      "[-206.69090347 -275.         -188.7762995  -205.22122525 -154.53279703\n",
      "  -86.10767327  -99.21875    -251.8022896  -188.0105198  -189.85148515\n",
      " -313.64480198 -224.28063119]\n"
     ]
    }
   ],
   "source": [
    "for i in range(n): \n",
    "     for j in range(m): \n",
    "        P = j*n+i; W = P-1; E = P+1; N=P+n; S=P-n; \n",
    "        Aw = dy*dz; Ae=Aw; An=dx*dz; As = An; Su=0; Sp=0; Sua=qa*Aw; Sub=qb*Ae; Suc=qc*As; Sud=qd*An; \n",
    "        aW = G*Aw/dx; aE = G*Ae/dx; aN = G*An/dy; aS = G*As/dy;\n",
    "    \n",
    "        if(i>0): \n",
    "            A[P,W]=-aW; \n",
    "        else: \n",
    "            if Ta:\n",
    "                aW=0; Sp=Sp-2*G*Aw/dx; Su=Su + 2*G*Aw/dx*Ta;  \n",
    "            else:\n",
    "                aW=0; Sp=Sp; Su=Sua + Su;\n",
    "     \n",
    "        if(i<n-1): \n",
    "            A[P,E]=-aE; \n",
    "        else:\n",
    "            if Tb:\n",
    "                aE=0; Sp=Sp-2*G*Ae/dx; Su=Su + 2*G*Ae/dx*Tb;\n",
    "            else:\n",
    "                aE=0; Sp=Sp; Su=Sub + Su;\n",
    "        if(j>0): \n",
    "            A[P,S]=-aS; \n",
    "        else:\n",
    "            if Tc:\n",
    "                aS=0; Sp=Sp-2*G*As/dy; Su=Su + 2*G*As/dy*Tc;\n",
    "            else:\n",
    "                aS=0; Sp=Sp; Su=Suc + Su;           \n",
    "        if(j<m-1): \n",
    "            A[P,N]=-aN; \n",
    "        else:\n",
    "            if Td:\n",
    "                aN=0; Sp=Sp-2*G*An/dy; Su=Su + 2*G*An/dy*Td;\n",
    "            else:\n",
    "                aN=0; Sp=Sp; Su=Sud + Su;           \n",
    "        aP = aW + aE + aS + aN - Sp; \n",
    "        A[P,P] = aP; \n",
    "        #print(A[P,P])\n",
    "        print(aP)\n",
    "        b[P]=Su; \n",
    "\n",
    "d=np.linalg.solve(A,b);  \n",
    "\n",
    "for j in range(m):\n",
    "    for i in range(n):\n",
    "        IN=j*n+i; d2[j,i]=d[IN];\n",
    "        \n",
    "fig = plt.figure()\n",
    "plt.contourf(X, Y, d2)\n",
    "plt.colorbar()\n",
    "plt.show()\n",
    "\n",
    "#print(\"Max Temp =\",max(d))\n",
    "print(d)\n",
    "#print(aP)\n",
    "\n",
    "#results = np.array()"
   ]
  }
 ],
 "metadata": {
  "interpreter": {
   "hash": "f85767144ba60e06b84615fff1853b87678be4044f12f972dadea1a34cadd894"
  },
  "kernelspec": {
   "display_name": "Python 3.10.0 64-bit",
   "language": "python",
   "name": "python3"
  },
  "language_info": {
   "codemirror_mode": {
    "name": "ipython",
    "version": 3
   },
   "file_extension": ".py",
   "mimetype": "text/x-python",
   "name": "python",
   "nbconvert_exporter": "python",
   "pygments_lexer": "ipython3",
   "version": "3.8.5"
  },
  "orig_nbformat": 4
 },
 "nbformat": 4,
 "nbformat_minor": 2
}
