{
 "cells": [
  {
   "cell_type": "code",
   "execution_count": 8,
   "metadata": {},
   "outputs": [],
   "source": [
    "import numpy as np\n",
    "import pandas as pd\n",
    "import re\n",
    "import os\n",
    "import matplotlib\n",
    "import matplotlib.pyplot as plt"
   ]
  },
  {
   "cell_type": "code",
   "execution_count": 114,
   "metadata": {},
   "outputs": [
    {
     "name": "stdout",
     "output_type": "stream",
     "text": [
      "[[0.03571429]\n",
      " [0.10714286]\n",
      " [0.17857143]\n",
      " [0.25      ]\n",
      " [0.32142857]\n",
      " [0.39285714]\n",
      " [0.46428571]]\n",
      "[[0.03571429]\n",
      " [0.10714286]\n",
      " [0.17857143]\n",
      " [0.25      ]\n",
      " [0.32142857]\n",
      " [0.39285714]\n",
      " [0.46428571]]\n",
      "[[0.03571429]\n",
      " [0.10714286]\n",
      " [0.17857143]\n",
      " [0.25      ]\n",
      " [0.32142857]\n",
      " [0.39285714]\n",
      " [0.46428571]]\n"
     ]
    },
    {
     "data": {
      "image/png": "[encoded data removed]",
      "text/plain": [
       "<Figure size 504x504 with 2 Axes>"
      ]
     },
     "metadata": {
      "needs_background": "light"
     },
     "output_type": "display_data"
    }
   ],
   "source": [
    "Lx=0.5; Ly=0.5; n = 7; m = 7; nn=n*m; # Geom descretization/mesh\n",
    "Ta=100.1; Tb=100.2; Tc=100.3; Td=100.4; # BCs\n",
    "k=0.5;  # Properties\n",
    " \n",
    "dx = Lx/n;  dy = Ly/m;   \n",
    "x = np.linspace(dx/2,Lx-dx/2,n); y = np.linspace(dy/2,Ly-dy/2,m); [X, Y]=np.meshgrid(x,y); \n",
    "\n",
    "A=np.zeros([nn,nn]); b=np.zeros([nn]); d2=np.zeros([m,n])\n",
    "\n",
    "dz=1;  G=k; q=100000; \n",
    "\n",
    "for j in range(m): \n",
    "     for i in range(n): \n",
    "        P = j*n+i; W = P-1; E = P+1; N=P+n; S=P-n; \n",
    "        Aw = dy*dz; Ae=Aw; An=dx*dz; As = An; Su=0; Sp=0; Sua=0*q*Aw*dx; Sub=0*q*Ae*dx; Suc=0*q*As*dy; Sud=0*q*An*dy; \n",
    "        aW = G*Aw/dx; aE = G*Ae/dx; aN = G*An/dy; aS = G*As/dy;\n",
    "        if(i>0): \n",
    "            A[P,W]=-aW; \n",
    "        else: \n",
    "            aW=0; Sp=Sp-2*G*Aw/dx; Su=Su+Sua + 2*G*Aw/dx*Ta; #aW=0; Sp=Sp-2*G*Aw/dx; Su=Su + 2*G*Aw/dx*Ta;\n",
    "        \n",
    "        if(i<n-1): \n",
    "            A[P,E]=-aE; \n",
    "        else:\n",
    "            aE=0; Sp=Sp-2*G*Ae/dx; Su=Su+Sub + 2*G*Ae/dx*Tb;\n",
    "        if(j>0): \n",
    "            A[P,S]=-aS; \n",
    "        else:\n",
    "            aS=0; Sp=Sp-2*G*As/dy; Su=Su+Suc + 2*G*As/dy*Tc;\n",
    "        if(j<m-1): \n",
    "            A[P,N]=-aN; \n",
    "        else:\n",
    "            aN=0; Sp=Sp-2*G*An/dy; Su=Su+Sud + 2*G*An/dy*Td;\n",
    "        \n",
    "        aP = aW + aE + aS + aN - Sp; \n",
    "        A[P,P] = aP; \n",
    "        b[P]=Su; \n",
    "\n",
    "d=np.linalg.solve(A,b);  \n",
    "\n",
    "for j in range(m):\n",
    "    for i in range(n):\n",
    "        IN=j*n+i; d2[j,i]=d[IN];\n",
    "\n",
    "\n",
    "node1 = np.empty([n, 1])\n",
    "#x_limit = \n",
    "for i in range(int((n/2))):\n",
    "    \n",
    "    for j in range(int((n/2))):\n",
    "            #node1[i][j] = X[2*j][2*i]\n",
    "            node1[i*2] = X[2*j][2*i]\n",
    "            #node1.append(X[2*j][2*i])\n",
    "\n",
    "        #if i>0:\n",
    "\n",
    "            #node1.append(X[i][j])\n",
    "            #node1.append(X[i+1])\n",
    "\n",
    "fig = plt.figure()\n",
    "plt.contourf(X, Y, d2)\n",
    "plt.colorbar()\n",
    "plt.rcParams[\"figure.figsize\"] = (7,7)\n",
    "plt.plot(X, Y, color = 'black')\n",
    "plt.scatter(X,Y)\n",
    "plt.show()\n"
   ]
  }
 ],
 "metadata": {
  "interpreter": {
   "hash": "fb698bdeab99cfbf9e31cab566d99a06e057f2dec3dcc8097ebabb329e860e16"
  },
  "kernelspec": {
   "display_name": "Python 3.8.5 64-bit ('base': conda)",
   "language": "python",
   "name": "python3"
  },
  "language_info": {
   "codemirror_mode": {
    "name": "ipython",
    "version": 3
   },
   "file_extension": ".py",
   "mimetype": "text/x-python",
   "name": "python",
   "nbconvert_exporter": "python",
   "pygments_lexer": "ipython3",
   "version": "3.8.5"
  },
  "orig_nbformat": 4
 },
 "nbformat": 4,
 "nbformat_minor": 2
}
