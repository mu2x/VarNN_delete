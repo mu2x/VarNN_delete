{
 "cells": [
  {
   "cell_type": "markdown",
   "metadata": {},
   "source": [
    "2021-09-21: CFD Class, V. Kumar "
   ]
  },
  {
   "cell_type": "code",
   "execution_count": 55,
   "metadata": {},
   "outputs": [],
   "source": [
    "#Step 1: Grid generation\n",
    "#Step 2: Discretization\n",
    "#Step 3: Solution of equations"
   ]
  },
  {
   "cell_type": "markdown",
   "metadata": {},
   "source": [
    "### Example 4.3\n",
    "In the final worked example of this chapter we discuss the cooling of a circular fin by means of convective heat transfer along its length. Convection gives rise to a temperature-dependent heat loss or sink term in the governing equation. Shown in Figure 4.9 is a cylindrical fin with uniform cross-sectional area A. The base is at a temperature of 100°C (TB) and the end is insulated. The fin is exposed to an ambient temperature of 20°C. One-dimensional heat transfer in this situation is governed by\n",
    "\n",
    "$$ {d \\over dx}  \\left[ \\kappa A {dT \\over dx } \\right] - h P (T-T_\\infty)= 0 \\tag{1} $$\n",
    "\n",
    "where h is the convective heat transfer coefficient, P the perimeter, k the thermal conductivity of the material and $T_\\infty$ the ambient temperature. Calculate the temperature distribution along the fin and compare the results with the analytical solution given by\n",
    "\n",
    "$$ {{{T-T_\\infty} \\over {T_B-T_\\infty}}} = {{cosh[n(L-x)]} \\over {cosh(nL)} } \\tag{2} $$\n",
    "\n",
    "\n",
    "where $n^2 = hP/(kA)$, L is the length of the fin and x the distance along the fin. Data: L = 1 m, $hP/(kA) = 25/m^2$ (note that kA is constant).\n"
   ]
  },
  {
   "cell_type": "code",
   "execution_count": 1,
   "metadata": {},
   "outputs": [
    {
     "name": "stdout",
     "output_type": "stream",
     "text": [
      "[[20. -5.  0.  0.  0.]\n",
      " [-5. 15. -5.  0.  0.]\n",
      " [ 0. -5. 15. -5.  0.]\n",
      " [ 0.  0. -5. 15. -5.]\n",
      " [ 0.  0.  0. -5. 10.]] [1100.  100.  100.  100.  100.]\n",
      "[100.          64.22764228  36.91056911  26.50406504  22.60162602\n",
      "  21.30081301  20.        ]\n"
     ]
    },
    {
     "data": {
      "text/plain": [
       "[<matplotlib.lines.Line2D at 0x7f21ab06af40>,\n",
       " <matplotlib.lines.Line2D at 0x7f21ab06afd0>]"
      ]
     },
     "execution_count": 1,
     "metadata": {},
     "output_type": "execute_result"
    },
    {
     "data": {
      "image/png": "[encoded data removed]",
      "text/plain": [
       "<Figure size 432x288 with 1 Axes>"
      ]
     },
     "metadata": {
      "needs_background": "light"
     },
     "output_type": "display_data"
    }
   ],
   "source": [
    "import numpy as np\n",
    "import matplotlib.pyplot as plt\n",
    "\n",
    "TA = 100; Tinf=20; q=500; L=1; dx=0.2; n=np.int(L/dx); \n",
    "nsq=25; k=1; A=1; hp=nsq*k*A; # nsq=hPbykA; \n",
    "x = np.linspace(0+dx/2,L-dx/2,n); #Step 1 Grid generation\n",
    "xall = np.zeros(n+2); xall[0]=0; xall[n+1]=L; xall[1:n+1]=x; # Grid including the BC\n",
    "\n",
    "#Step 2 Discretization\n",
    "aW = k*A/dx; aE=k*A/dx; sP=-hp*k*A*dx; sU=hp*k*A*dx*Tinf; # Internal nodes\n",
    "aWA = 0; aEA=k*A/dx; sPA=-2*k*A/dx -hp*k*A*dx; sUA=2*k*A/dx*TA + hp*k*A*dx*Tinf; # BC node 1\n",
    "aWB = k*A/dx; aEB=0; sPB=-hp*k*A*dx; sUB=hp*k*A*dx*Tinf; # BC node n\n",
    "\n",
    "A=np.zeros([n,n]); b=np.zeros(n); T=np.zeros(n+2); T[0]=TA; T[n+1]=Tinf; #Initialization\n",
    "\n",
    "for i in range(n):\n",
    "    aP=aW + aE - sP; bP=sU;\n",
    "    if(i==0):\n",
    "        A[i,i] = aWA + aEA - sPA; A[i,i+1] = -aEA; b[i] = sUA; \n",
    "    elif (i==n-1):\n",
    "        A[i,i] = aWB + aEB - sPB; A[i,i-1] = -aWB; b[i] = sUB; \n",
    "    else:\n",
    "        A[i,i] = aW + aE - sP; A[i,i-1] = -aW; A[i,i+1] = -aE; b[i] = sU; \n",
    "\n",
    "print(A, b)\n",
    "           \n",
    "T[1:n+1] = np.linalg.solve(A,b); #Step 3: Solve\n",
    "\n",
    "n=np.sqrt(nsq);\n",
    "Texact = lambda x: Tinf + (TA-Tinf)*np.cosh(n*(L-x))/np.cosh(n*L); # Exact solution\n",
    "print(T)\n",
    "\n",
    "plt.plot(xall, T, '*', xall, Texact(xall))"
   ]
  },
  {
   "cell_type": "code",
   "execution_count": null,
   "metadata": {},
   "outputs": [],
   "source": []
  }
 ],
 "metadata": {
  "kernelspec": {
   "display_name": "Python 3",
   "language": "python",
   "name": "python3"
  },
  "language_info": {
   "codemirror_mode": {
    "name": "ipython",
    "version": 3
   },
   "file_extension": ".py",
   "mimetype": "text/x-python",
   "name": "python",
   "nbconvert_exporter": "python",
   "pygments_lexer": "ipython3",
   "version": "3.8.3"
  }
 },
 "nbformat": 4,
 "nbformat_minor": 4
}
