{
 "cells": [
  {
   "cell_type": "markdown",
   "metadata": {},
   "source": [
    "CFD Class (V. Kumar, 2021-09-21) "
   ]
  },
  {
   "cell_type": "code",
   "execution_count": 55,
   "metadata": {},
   "outputs": [],
   "source": [
    "import numpy as np\n",
    "import matplotlib.pyplot as plt\n",
    "#Step 1: Grid generation\n",
    "#Step 2: Discretization\n",
    "#Step 3: Solution of equations"
   ]
  },
  {
   "cell_type": "markdown",
   "metadata": {},
   "source": [
    "### Example 4.2\n",
    "Now we discuss a problem that includes sources other than those arising from boundary conditions. Figure 4.6 shows a large plate of thickness L = 2 cm with constant thermal conductivity $k = 0.5 W/m.K$ and uniform heat generation $q = 1000 kW/m^3$. The faces A and B are at temperatures of 100°C and 200°C respectively. Assuming that the dimensions in the y- and z-directions are so large that temperature gradients are significant in the x-direction only, calculate the steady state temperature distribution. Compare the numerical result with the analytical solution. The governing equation is\n",
    "\n",
    "$$ {d \\over dx}  \\left[ \\Gamma {dT \\over dx } \\right] + q= 0 $$\n",
    "\n"
   ]
  },
  {
   "cell_type": "code",
   "execution_count": 1,
   "metadata": {},
   "outputs": [],
   "source": []
  },
  {
   "cell_type": "code",
   "execution_count": null,
   "metadata": {},
   "outputs": [],
   "source": []
  }
 ],
 "metadata": {
  "kernelspec": {
   "display_name": "Python 3",
   "language": "python",
   "name": "python3"
  },
  "language_info": {
   "codemirror_mode": {
    "name": "ipython",
    "version": 3
   },
   "file_extension": ".py",
   "mimetype": "text/x-python",
   "name": "python",
   "nbconvert_exporter": "python",
   "pygments_lexer": "ipython3",
   "version": "3.8.3"
  }
 },
 "nbformat": 4,
 "nbformat_minor": 4
}
