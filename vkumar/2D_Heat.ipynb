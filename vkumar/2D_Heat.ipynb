{
 "cells": [
  {
   "cell_type": "markdown",
   "metadata": {},
   "source": [
    "### 2D Finite Volume Method for Multi-Material Selective Laser Sintering \n",
    "### Abstract \n",
    "Selective Laser Sintering (SLS) is an Additive Manufacturing (AM) technique that sinters material powders together using a laser in a heated enclosure. Typically, SLS printing of thermoplastic polymers is done with one material. Technology advances have introduced the possibility of multi-material (M2) SLS printing involving more than one different thermoplastics being sintered in one print. M2 AM is an attractive domain of AM because of the potential to create highly-customizable mechanically-tailored structures for many industries.  However, differences in thermal properties between materals result in frequent print errors which create weakness in printed structures, poor dimensional stability, and aborted prints. This beckons a better understanding of the thermal mechanisms of the M2 SLS printing process. This report presents the preliminary calculations and modeling of a 2-dimensional (2D) M2 SLS print using finite volume method (FVM). \n",
    "\n",
    "### Introduction \n",
    "\n",
    "This report follows the assumptions made in Chen et al. (2010):\n",
    "1. Melting and resolidification in SLS is a conduction-controlled phase-change\n",
    "problem.\n",
    "2. The thermal properties of the low-melting-point powder are the same for\n",
    "both liquid and solid phases.\n",
    "3. Two kinds of metal powders are fully mixed, and the initial porosity is\n",
    "uniform.\n",
    "4. The bottom of the computational domain for both cases is adiabatic.\n",
    "5. The horizontal dimension of the powder layer is significantly larger than the\n",
    "diameter of the laser beam.\n",
    "\n",
    "The heat transfer mechanisms in SLS are complicated and involve all modes: conduction, convection, and radiation. Fourier heat conducion theory is commonly used to describe the SLS heat conduction evolution:\n",
    "\n",
    "$\\lambda(\\frac{\\partial^2T}{\\partial x^2} + \\frac{\\partial^2T}{\\partial y^2} + \\frac{\\partial^2T}{\\partial z^2}) + q = \\rho C \\frac{\\partial T}{\\partial t}$\n",
    "\n",
    "$(\\frac{\\delta T}{\\delta t}) \\approx \\frac{T^{n+1} - T^n}{\\Delta t} $\n",
    "\n",
    "$(\\frac{\\partial^2T}{\\partial x^2}) \\approx \\frac{T_{n+1,m} - 2T_{n,m} + T_{i,j-1}}{\\Delta x^2}$\n",
    "\n",
    "$(\\frac{\\partial^2T}{\\partial y^2}) \\approx \\frac{T_{n+1,m} - 2T_{n,m} + T_{i,j-1}}{\\Delta y^2}$\n",
    "\n",
    "$(\\frac{\\partial^2T}{\\partial z^2}) \\approx \\frac{T_{n+1,m} - 2T_{n,m} + T_{i,j-1}}{\\Delta z^2}$\n",
    "\n",
    "$\\lambda(\\frac{T_{n+1,m} - 2T_{n,m} + T_{i,j-1}}{\\Delta x^2} + \\frac{T_{n+1,m} - 2T_{n,m} + T_{i,j-1}}{\\Delta y^2} + \\frac{T_{n+1,m} - 2T_{n,m} + T_{i,j-1}}{\\Delta z^2}) + q = \\rho C \\frac{T^{n+1} - T^n}{\\Delta t} $\n",
    "\n",
    "Boundary conditions: \n",
    "\n",
    "$-\\lambda \\frac{\\partial T}{\\partial z} = \\epsilon_\\theta \\sigma (T^4 - T_e^4) + h(T - T_e)$\n",
    "\n",
    "$-\\lambda \\frac{\\partial T}{\\partial z}|_{z=0} = 0$\n",
    "\n",
    "$ T $ is the temperature, \n",
    "$ \\lambda $ dimensionless shrinkage velocity,\n",
    "$ \\rho $ is the density of the powder,\n",
    "$ C $ is the heat capacity coefficient,\n",
    "$ q $ is the internal heat ,\n",
    "$ T_0 $ is the powder bed initial temperature, \n",
    "$ T_e $ the environment temperature,\n",
    "$ \\epsilon_\\theta $ is the thermal radiation coefficient,\n",
    "$ \\sigma $ is the Stefan-Boltzmann constant,\n",
    "and $ h $ is the convection heat transfer coefficient, \n",
    "\n",
    "### Methodology \n",
    "\n",
    "$-U\\frac{\\partial(CT)}{\\partial X} + W\\frac{\\partial(CT)}{\\partial Z}= \\frac{\\partial}{\\partial X}(K\\frac{\\partial(T)}{\\partial X}) - (-U\\frac{\\partial S}{\\partial X} + W\\frac{\\partial S}{\\partial Z}) $\n",
    "\n",
    "\n",
    "\n",
    "$ U $ is the laser scan speed, \n",
    "$ W $ is the dimensionless shrinkage velocity,\n",
    "$ C $ is the heat capacity,\n",
    "$ S $ is the source term,\n",
    "and $ K $ is the thermal conductivity \n",
    "\n",
    "The values of the above parameters are dependent on whether the powder is in its loose unsintered form, or in it's resolidifed sintered form. For the loose unsintered form:\n",
    "\n",
    "\n",
    "\n",
    "### Problem Definition \n",
    "### Results and Discussion \n",
    "### Conclusion \n",
    "### References \n",
    "\n",
    "[1] Kumar CFD [2]\n"
   ]
  },
  {
   "cell_type": "markdown",
   "metadata": {},
   "source": []
  },
  {
   "cell_type": "code",
<<<<<<< HEAD
   "execution_count": 1,
=======
   "execution_count": 11,
>>>>>>> 66002957385e5632a05916318505e1bf203a7bdf
   "metadata": {},
   "outputs": [
    {
     "ename": "ModuleNotFoundError",
     "evalue": "No module named 'matplotlib'",
     "output_type": "error",
     "traceback": [
      "\u001b[1;31m---------------------------------------------------------------------------\u001b[0m",
      "\u001b[1;31mModuleNotFoundError\u001b[0m                       Traceback (most recent call last)",
      "\u001b[1;32mC:\\Users\\AENRIQ~1\\AppData\\Local\\Temp/ipykernel_7560/956912742.py\u001b[0m in \u001b[0;36m<module>\u001b[1;34m\u001b[0m\n\u001b[1;32m----> 1\u001b[1;33m \u001b[1;32mimport\u001b[0m \u001b[0mmatplotlib\u001b[0m\u001b[1;33m.\u001b[0m\u001b[0mpyplot\u001b[0m \u001b[1;32mas\u001b[0m \u001b[0mplt\u001b[0m\u001b[1;33m\u001b[0m\u001b[1;33m\u001b[0m\u001b[0m\n\u001b[0m\u001b[0;32m      2\u001b[0m \u001b[1;32mimport\u001b[0m \u001b[0mnumpy\u001b[0m \u001b[1;32mas\u001b[0m \u001b[0mnp\u001b[0m\u001b[1;33m\u001b[0m\u001b[1;33m\u001b[0m\u001b[0m\n\u001b[0;32m      3\u001b[0m \u001b[1;32mimport\u001b[0m \u001b[0mjson\u001b[0m\u001b[1;33m\u001b[0m\u001b[1;33m\u001b[0m\u001b[0m\n",
      "\u001b[1;31mModuleNotFoundError\u001b[0m: No module named 'matplotlib'"
     ]
    }
   ],
   "source": [
    "import matplotlib.pyplot as plt\n",
    "import numpy as np\n",
    "import json\n",
    "# Test"
   ]
  },
  {
   "cell_type": "code",
   "execution_count": 12,
   "metadata": {},
   "outputs": [
    {
     "data": {
<<<<<<< HEAD
<<<<<<< HEAD
      "image/png": "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",
=======
      "image/png": "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",
>>>>>>> 98dde4ec0f94254c6cc7b877fedc78823765c9ce
=======
      "image/png": "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",
>>>>>>> 66002957385e5632a05916318505e1bf203a7bdf
      "text/plain": [
       "<Figure size 432x288 with 2 Axes>"
      ]
     },
     "metadata": {
      "needs_background": "light"
     },
     "output_type": "display_data"
    },
    {
     "name": "stdout",
     "output_type": "stream",
     "text": [
      "899\n"
     ]
    }
   ],
   "source": [
<<<<<<< HEAD
    "Lx=0.5; Ly=0.5; n = 30; m = 10; nn=n*m; # Geom descretization/mesh\n",
    "Ta=100; Tb=200; Tc=200; Td=400; # BCs\n",
    "k=0.5;  # Properties\n",
=======
    "import matplotlib.pyplot as plt\n",
    "import numpy as np\n",
    "import json\n",
    "Lx=2.5; Ly=2.5; n = 30; m = 30; nn=n*m; # Geom descretization/mesh\n",
    "Ta=500; Tb=500; Tc=500; Td=500; # BCs\n",
    "k=0.12; Cp = 1185; rho = 1015;\n",
    "delta_t = 60 # Properties\n",
    "LP = 20000; SS = .200 ;\n",
>>>>>>> 66002957385e5632a05916318505e1bf203a7bdf
    " \n",
    "dx = Lx/n;  dy = Ly/m;   \n",
    "x = np.linspace(dx/2,Lx-dx/2,n); y = np.linspace(dy/2,Ly-dy/2,m); [X, Y]=np.meshgrid(x,y); \n",
    "\n",
    "A=np.zeros([nn,nn]); b=np.zeros([nn]); d2=np.zeros([m,n])\n",
    "dz=1;  G=k; q=LP*delta_t; #Added heat generation  \n",
    "\n",
    "for j in range(m): \n",
    "     for i in range(n): \n",
    "        P = j*n+i; W = P-1; E = P+1; N=P+n; S=P-n; \n",
    "        Aw = dy*dz; Ae=Aw; An=dx*dz; As = An; Su=0; Sua=0*q*Aw; Sub=0*q*Ae; Suc=0*q*As; Sud=q*An; Sp=0; \n",
    "        aW = G*Aw/dx; aE = G*Ae/dx; aN = G*An/dy; aS = G*As/dy; a_0P = rho*Cp*dx*dy/delta_t\n",
    "        if(i>0): \n",
    "            A[P,W]=-aW; \n",
    "        else: \n",
    "            aW=0; Sp=Sp-2*G*Aw/dx; Su=Sua + 2*G*Aw/dx*Ta; #q*Aw*dx; #aW=0; Sp=Sp-2*G*Aw/dx; Su=Su + 2*G*Aw/dx*Ta;\n",
    "        \n",
    "        if(i<n-1): \n",
    "            A[P,E]=-aE; \n",
    "        else:\n",
    "            aE=0; Sp=Sp-2*G*Ae/dx; Su=Sub + 2*G*Ae/dx*Tb;\n",
    "        if(j>0): \n",
    "            A[P,S]=-aS; \n",
    "        else:\n",
    "            aS=0; Sp=Sp-2*G*As/dy; Su=Suc + 2*G*As/dy*Tc;\n",
    "        if(j<m-1): \n",
    "            A[P,N]=-aN; \n",
    "        else:\n",
    "            aN=0; Sp=Sp-2*G*An/dy; Su=Sud + 2*G*An/dy*Td;\n",
    "        \n",
    "        aP = aW + aE + aS + aN + a_0P - Sp; \n",
    "        A[P,P] = aP; \n",
    "        b[P]=Su; \n",
    "        \n",
    "\n",
    "d=np.linalg.solve(A,b);  \n",
    "\n",
    "for j in range(m):\n",
    "    for i in range(n):\n",
    "        IN=j*n+i; d2[j,i]=d[IN];\n",
    "        \n",
    "fig = plt.figure()\n",
    "plt.contourf(X, Y, d2)\n",
    "plt.colorbar()\n",
    "plt.show()\n",
    "\n",
    "print(IN)\n",
    "\n",
    "\n"
   ]
  },
  {
   "cell_type": "code",
   "execution_count": null,
   "metadata": {},
   "outputs": [],
   "source": []
  }
 ],
 "metadata": {
  "interpreter": {
   "hash": "f85767144ba60e06b84615fff1853b87678be4044f12f972dadea1a34cadd894"
  },
  "kernelspec": {
   "display_name": "Python 3.10.0 64-bit",
   "name": "python3"
  },
  "language_info": {
   "codemirror_mode": {
    "name": "ipython",
    "version": 3
   },
   "file_extension": ".py",
   "mimetype": "text/x-python",
   "name": "python",
   "nbconvert_exporter": "python",
   "pygments_lexer": "ipython3",
<<<<<<< HEAD
   "version": "3.10.0"
=======
   "version": "3.8.5"
>>>>>>> 66002957385e5632a05916318505e1bf203a7bdf
  }
 },
 "nbformat": 4,
 "nbformat_minor": 4
}
