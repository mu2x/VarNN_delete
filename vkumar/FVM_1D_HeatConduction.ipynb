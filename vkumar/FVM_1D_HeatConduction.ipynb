{
 "cells": [
  {
   "cell_type": "markdown",
   "metadata": {},
   "source": [
    "2021-09-21: CFD Class, V. Kumar \n",
    "# Finite volume method for 1D steady state diffusion\n",
    "Consider the steady state diffusion of a property φ in a one-dimensional domain. The process is governed by\n",
    "\n",
    "$$ {d \\over dx}  \\left[ \\Gamma {d\\phi \\over dx } \\right] + S = 0 $$\n",
    "\n",
    "where $\\Gamma$ is the diffusion coefficient and $S$ is the source term. Boundary values of $\\phi$ at points A and B are prescribed. An example of this type of process, one-dimensional heat conduction in a rod. More at https://drive.google.com/file/d/1GBn-iGhxfcweesulz87syuZcGr9teI4y/view\n",
    "\n",
    "#!git commit -am 'updated'; !git push"
   ]
  },
  {
   "cell_type": "code",
   "execution_count": 55,
   "metadata": {},
   "outputs": [],
   "source": [
    "import numpy as np\n",
    "import matplotlib.pyplot as plt\n",
    "#Step 1: Grid generation\n",
    "#Step 2: Discretization\n",
    "#Step 3: Solution of equations"
   ]
  },
  {
   "cell_type": "markdown",
   "metadata": {},
   "source": [
    "### Example 4.1\n",
    "Consider the problem of source-free heat conduction in an insulated rod whose ends are maintained at constant temperatures of 100°C and 500°C respectively. The one-dimensional problem sketched in Figure 4.3 is gov-\n",
    "erned by\n",
    "\n",
    "$$ {d \\over dx}  \\left[ \\Gamma {dT \\over dx } \\right] = 0 $$\n",
    "\n",
    "Calculate the steady state temperature distribution in the rod. Thermal conductivity k equals 1000 W/m.K, cross-sectional area A is $10 \\times 10^{−3} m^2$. \n",
    "Note - Exact solution, T(x) = 800x + 100"
   ]
  },
  {
   "cell_type": "code",
   "execution_count": 65,
   "metadata": {},
   "outputs": [
    {
     "name": "stdout",
     "output_type": "stream",
     "text": [
      "[[ 300. -100.    0.    0.    0.]\n",
      " [-100.  200. -100.    0.    0.]\n",
      " [   0. -100.  200. -100.    0.]\n",
      " [   0.    0. -100.  200. -100.]\n",
      " [   0.    0.    0. -100.  300.]]\n",
      "[100. 140. 220. 300. 380. 460. 500.]\n"
     ]
    },
    {
     "data": {
      "text/plain": [
       "[<matplotlib.lines.Line2D at 0x7f19ffa54a00>,\n",
       " <matplotlib.lines.Line2D at 0x7f19ffa54a30>]"
      ]
     },
     "execution_count": 65,
     "metadata": {},
     "output_type": "execute_result"
    },
    {
     "data": {
      "image/png": "[encoded data removed]",
      "text/plain": [
       "<Figure size 432x288 with 1 Axes>"
      ]
     },
     "metadata": {
      "needs_background": "light"
     },
     "output_type": "display_data"
    }
   ],
   "source": [
    "n=5; \n",
    "TA = 100; TB=500; L=0.5; dx=0.1; n=np.int(L/dx); \n",
    "k=1000; A=10E-3; \n",
    "x = np.linspace(0+dx/2,L-dx/2,n); #Step 1 Grid generation\n",
    "xall = np.zeros(n+2); xall[0]=0; xall[n+1]=L; xall[1:n+1]=x; # Grid including the BC\n",
    "\n",
    "#Step 2 Discretization\n",
    "aW = k*A/dx; aE=k*A/dx; sP=0; sU=0; # Internal nodes\n",
    "aWA = 0; aEA=k*A/dx; sPA=-2*k*A/dx; sUA=2*k*A/dx*TA; # BC node 1\n",
    "aWB = k*A/dx; aEB=0; sPB=-2*k*A/dx; sUB=2*k*A/dx*TB; # BC node n\n",
    "\n",
    "A=np.zeros([n,n]); b=np.zeros(n); T=np.zeros(n+2); T[0]=TA; T[n+1]=TB; #Initialization\n",
    "\n",
    "for i in range(n):\n",
    "    aP=aW + aE - sP; bP=sU;\n",
    "    if(i==0):\n",
    "        A[i,i] = aWA + aEA - sPA; A[i,i+1] = -aEA; b[i] = sUA; \n",
    "    elif (i==n-1):\n",
    "        A[i,i] = aWB + aEB - sPB; A[i,i-1] = -aWB; b[i] = sUB; \n",
    "    else:\n",
    "        A[i,i] = aW + aE - sP; A[i,i-1] = -aW; A[i,i+1] = -aE; b[i] = sU; \n",
    "\n",
    "print(A)\n",
    "           \n",
    "T[1:n+1] = np.linalg.solve(A,b); #Step 3: Solve\n",
    "\n",
    "Texact = lambda x: 800*x + 100; # Exact solution\n",
    "print(T)\n",
    "\n",
    "plt.plot(xall, T, '*', xall, Texact(xall))"
   ]
  },
  {
   "cell_type": "code",
   "execution_count": 64,
   "metadata": {},
   "outputs": [
    {
     "name": "stdout",
     "output_type": "stream",
     "text": [
      "[main d6d78f6] updated\r\n",
      " 1 files changed, 83 insertions(+), 10 deletions(-)\r\n",
      "/bin/bash: !git: command not found\r\n"
     ]
    }
   ],
   "source": []
  }
 ],
 "metadata": {
  "kernelspec": {
   "display_name": "Python 3",
   "language": "python",
   "name": "python3"
  },
  "language_info": {
   "codemirror_mode": {
    "name": "ipython",
    "version": 3
   },
   "file_extension": ".py",
   "mimetype": "text/x-python",
   "name": "python",
   "nbconvert_exporter": "python",
   "pygments_lexer": "ipython3",
   "version": "3.8.3"
  }
 },
 "nbformat": 4,
 "nbformat_minor": 4
}
